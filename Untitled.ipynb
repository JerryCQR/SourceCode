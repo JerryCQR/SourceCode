{
 "cells": [
  {
   "cell_type": "code",
   "execution_count": 1,
   "metadata": {
    "collapsed": true
   },
   "outputs": [],
   "source": [
    "import os\n",
    "import shutil\n",
    "picture1 = 'C:\\\\Users\\\\HP\\\\Desktop\\\\VOCdevkit2007\\\\VOC2007\\\\JPEGImages'\n",
    "picture2 = 'C:\\\\Users\\\\HP\\\\Desktop\\\\picture_3'\n",
    "\n",
    "\n",
    "file1 = 'C:\\\\Users\\\\HP\\\\Desktop\\\\person_train.txt'\n",
    "file2 ='C:\\\\Users\\\\HP\\\\Desktop\\\\car_train.txt'\n",
    "\n",
    "with open(file2) as file_object:\n",
    "    p = file_object.readlines()\n",
    "for i in p:\n",
    "    if i[-2] =='1'and i[-3]==' ':\n",
    "         for p_name in os.listdir(picture1):\n",
    "                if p_name[:6] == i[:6]:\n",
    "                    #print (p_name)  \n",
    "                       shutil.copy(picture1+'\\\\'+p_name,picture2)\n",
    "    "
   ]
  },
  {
   "cell_type": "code",
   "execution_count": null,
   "metadata": {
    "collapsed": true
   },
   "outputs": [],
   "source": []
  }
 ],
 "metadata": {
  "kernelspec": {
   "display_name": "Python 3",
   "language": "python",
   "name": "python3"
  },
  "language_info": {
   "codemirror_mode": {
    "name": "ipython",
    "version": 3
   },
   "file_extension": ".py",
   "mimetype": "text/x-python",
   "name": "python",
   "nbconvert_exporter": "python",
   "pygments_lexer": "ipython3",
   "version": "3.6.2"
  }
 },
 "nbformat": 4,
 "nbformat_minor": 2
}
